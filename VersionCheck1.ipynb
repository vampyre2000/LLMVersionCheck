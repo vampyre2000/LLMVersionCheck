{
 "cells": [
  {
   "cell_type": "code",
   "execution_count": 2,
   "id": "dec02200",
   "metadata": {},
   "outputs": [
    {
     "name": "stdout",
     "output_type": "stream",
     "text": [
      "Today's date is the 2024-03-01\n",
      "Days until the singularity 2404 days, 0:00:00\n",
      "Failed to fetch the webpage\n",
      "Release Date 25 Feb 05:31:Koboldcpp          :Release koboldcpp-1.59.1 \n",
      "Release Date 26 Feb 08:15:KoboldcppROCM      :Release KoboldCPP-v1.59.1.yr1-ROCm \n",
      "Release Date 22 Feb 22:55:Ollama             :Release v0.1.27 \n",
      "Release Date 28 Jul 03:02:SillyTavernLauncher:Release SillyTavernSimpleLauncher - V1.6 \n",
      "Release Date 27 Feb 19:34:SillyTavernMain    :Release 1.11.5 \n",
      "Release Date 26 Feb 17:10:GPT4All            :Release v2.7.1 \n"
     ]
    }
   ],
   "source": [
    "import requests\n",
    "import datetime\n",
    "from bs4 import BeautifulSoup\n",
    "\n",
    "# Get today's date and time using the datetime.date() function\n",
    "today = datetime.date.today()\n",
    "# Print the formatted date in \"YYYY-MM-DD\" format\n",
    "# Define the URL of the website where Kobol.cpp version information is available\n",
    "Singularity_date = datetime.date(2030,9,30)\n",
    "LMStudio_url      = \"https://releases.lmstudio.ai/windows/0.2.16/latest/\"\n",
    "Koboldcpp_url     = \"https://github.com/LostRuins/koboldcpp/releases/latest\"  # Replace with the actual URL\n",
    "KoboldcppROCM_url = \"https://github.com/YellowRoseCx/koboldcpp-rocm/releases/latest\"\n",
    "Ollama_url        = \"https://github.com/ollama/ollama/releases/latest\"\n",
    "SillyTavern_L_url = \"https://github.com/BlueprintCoding/SillyTavernSimpleLauncher/releases/latest\"\n",
    "SillyTavern_M_url = \"https://github.com/SillyTavern/SillyTavern/releases/latest\"\n",
    "GPT4All_url       = \"https://github.com/nomic-ai/gpt4all/releases/latest\"\n",
    "# Send an HTTP GET request to retrieve the HTML content\n",
    "def check_version(PROGRAM,URL): \n",
    "    response = requests.get(URL)\n",
    "    # Check if the request was successful (status code 200)\n",
    "    if response.status_code == 200:\n",
    "        # Parse the HTML content using BeautifulSoup\n",
    "        soup = BeautifulSoup(response.text, \"html.parser\")\n",
    "        # Locate the element containing the Kobol.cpp version information (e.g., a <span> or <p> tag)\n",
    "        version_element = soup.find(\"title\")  # Adjust the selector based on the website's HTML structure\n",
    "        date_element    = soup.find(\"relative-time\")\n",
    "        # Extract the version number from the element's text content\n",
    "        version = version_element.text\n",
    "        version_p= version.find(\"·\")\n",
    "        #version = version_element.text.strip()\n",
    "        date    = date_element.text.strip()\n",
    "        print(f\"Release Date {date}:{PROGRAM}:{version[0:version_p]}\")\n",
    "    else:\n",
    "        print(\"Failed to fetch the webpage\")\n",
    "\n",
    "days_until_singularity=(Singularity_date - today)\n",
    "print(\"Today's date is the \" + today.strftime(\"%Y-%m-%d\"))\n",
    "print(f\"Days until the singularity {days_until_singularity}\")\n",
    "check_version(\"LMStudioKoboldcpp  \",LMStudio_url)\n",
    "check_version(\"Koboldcpp          \",Koboldcpp_url)\n",
    "check_version(\"KoboldcppROCM      \",KoboldcppROCM_url)\n",
    "check_version(\"Ollama             \",Ollama_url)\n",
    "check_version(\"SillyTavernLauncher\",SillyTavern_L_url)\n",
    "check_version(\"SillyTavernMain    \",SillyTavern_M_url)\n",
    "check_version(\"GPT4All            \",GPT4All_url)\n"
   ]
  },
  {
   "cell_type": "code",
   "execution_count": null,
   "id": "ca661911",
   "metadata": {},
   "outputs": [],
   "source": []
  }
 ],
 "metadata": {
  "kernelspec": {
   "display_name": "Python 3 (ipykernel)",
   "language": "python",
   "name": "python3"
  },
  "language_info": {
   "codemirror_mode": {
    "name": "ipython",
    "version": 3
   },
   "file_extension": ".py",
   "mimetype": "text/x-python",
   "name": "python",
   "nbconvert_exporter": "python",
   "pygments_lexer": "ipython3",
   "version": "3.11.4"
  }
 },
 "nbformat": 4,
 "nbformat_minor": 5
}
